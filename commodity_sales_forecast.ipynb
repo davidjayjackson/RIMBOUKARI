{
 "cells": [
  {
   "cell_type": "code",
   "execution_count": null,
   "id": "aa53a754-5da5-4df4-8088-2dea3769b9fe",
   "metadata": {},
   "outputs": [],
   "source": [
    "import pandas as pd\n",
    "import numpy as np\n",
    "import seaborn as sns\n",
    "import matplotlib.pyplot as plt\n",
    "from statsmodels.tsa.arima_model import ARIMA\n",
    "from pmdarima.arima import auto_arima\n",
    "from statsmodels.tsa.exponential_smoothing.ets import ETSModel"
   ]
  },
  {
   "cell_type": "markdown",
   "id": "b78be7d0-32dc-47d7-b2f3-200f2f1bca6a",
   "metadata": {},
   "source": [
    "### Let the fun begin: Read In Commodity_trade Data"
   ]
  },
  {
   "cell_type": "code",
   "execution_count": null,
   "id": "b2736a0c-144b-41ae-99d8-86acac96f18c",
   "metadata": {},
   "outputs": [],
   "source": [
    "trade = pd.read_csv(\"./data/commodity_trade.csv\",dtype={'comm_code': str})\n",
    "trade.shape\n"
   ]
  },
  {
   "cell_type": "code",
   "execution_count": null,
   "id": "3d5f38fc-f59c-4058-ac98-f107e9a83166",
   "metadata": {},
   "outputs": [],
   "source": [
    "# Replace the values in the 'flow' column\n",
    "trade['flow'].replace({'Re-Export': 'Export', 'Re-Import': 'Import'}, inplace=True)"
   ]
  },
  {
   "cell_type": "code",
   "execution_count": null,
   "id": "c0fe5c2e-9e7c-433b-9124-aa7e45793f7a",
   "metadata": {},
   "outputs": [],
   "source": [
    "ax = trade['flow'].value_counts().plot(kind ='barh', title=\"Row Counts for Import and Export\")\n",
    "ax.set_xlabel('Millions(x1,000,000)')\n",
    "plt.show()"
   ]
  },
  {
   "cell_type": "markdown",
   "id": "7dce2b00-dde8-4e23-bf6f-4c5977715b80",
   "metadata": {},
   "source": [
    "### Some Lite EDA"
   ]
  },
  {
   "cell_type": "code",
   "execution_count": null,
   "id": "ff677f2a-0513-4ff3-85e2-172c8ff166c1",
   "metadata": {},
   "outputs": [],
   "source": [
    "# IQR = 1,884,276\n",
    "trade.head()"
   ]
  },
  {
   "cell_type": "code",
   "execution_count": null,
   "id": "77f8b755-4fb8-4d60-a605-fc4fb64feb22",
   "metadata": {},
   "outputs": [],
   "source": [
    "\n",
    "\n"
   ]
  },
  {
   "cell_type": "markdown",
   "id": "695a9900-1b1e-4951-9cd8-47b576d6dbe2",
   "metadata": {},
   "source": [
    "#### Begin Analysis and Forecast for Exports"
   ]
  },
  {
   "cell_type": "code",
   "execution_count": null,
   "id": "1d87e169-713b-49dd-8cc7-4cc2772e601b",
   "metadata": {},
   "outputs": [],
   "source": [
    "exports = trade.query('flow ==\"Export\"')\n",
    "exports.describe()"
   ]
  },
  {
   "cell_type": "code",
   "execution_count": 48,
   "id": "3228424e-dd03-4256-8a4a-617ee75324f9",
   "metadata": {},
   "outputs": [],
   "source": [
    "# Extract the columns of interest\n",
    "exports = exports[[\"flow\", \"trade_usd\"]]\n",
    "\n",
    "# Create a range of dates with yearly frequency from 2000 to 2020\n",
    "dates = pd.date_range(start=\"2000-01-01\", end=\"2020-12-31\", freq=\"Y\")\n",
    "\n",
    "# Repeat the dates to match the length of the DataFrame\n",
    "dates = dates.tolist() * ((len(exports) // len(dates)) + 1)\n",
    "dates = dates[:len(exports)]\n",
    "\n",
    "# Format the dates as strings with the format \"%Y-%m-%d\"\n",
    "formatted_dates = [date.strftime(\"%Y-%m-%d\") for date in dates]\n",
    "\n",
    "# Add the years column to the DataFrame\n",
    "exports[\"years\"] = formatted_dates\n",
    "\n",
    "# Convert the years column to datetime\n",
    "exports[\"years\"] = pd.to_datetime(exports[\"years\"])"
   ]
  },
  {
   "cell_type": "code",
   "execution_count": 49,
   "id": "1e12c5ab-7a0a-4301-a5ee-bec48fd4e7c0",
   "metadata": {},
   "outputs": [
    {
     "data": {
      "text/html": [
       "<div>\n",
       "<style scoped>\n",
       "    .dataframe tbody tr th:only-of-type {\n",
       "        vertical-align: middle;\n",
       "    }\n",
       "\n",
       "    .dataframe tbody tr th {\n",
       "        vertical-align: top;\n",
       "    }\n",
       "\n",
       "    .dataframe thead th {\n",
       "        text-align: right;\n",
       "    }\n",
       "</style>\n",
       "<table border=\"1\" class=\"dataframe\">\n",
       "  <thead>\n",
       "    <tr style=\"text-align: right;\">\n",
       "      <th></th>\n",
       "      <th>flow</th>\n",
       "      <th>trade_usd</th>\n",
       "      <th>years</th>\n",
       "    </tr>\n",
       "  </thead>\n",
       "  <tbody>\n",
       "    <tr>\n",
       "      <th>0</th>\n",
       "      <td>Export</td>\n",
       "      <td>6088</td>\n",
       "      <td>2000-12-31</td>\n",
       "    </tr>\n",
       "    <tr>\n",
       "      <th>1</th>\n",
       "      <td>Export</td>\n",
       "      <td>3958</td>\n",
       "      <td>2001-12-31</td>\n",
       "    </tr>\n",
       "    <tr>\n",
       "      <th>6</th>\n",
       "      <td>Export</td>\n",
       "      <td>87581</td>\n",
       "      <td>2002-12-31</td>\n",
       "    </tr>\n",
       "    <tr>\n",
       "      <th>10</th>\n",
       "      <td>Export</td>\n",
       "      <td>584025</td>\n",
       "      <td>2003-12-31</td>\n",
       "    </tr>\n",
       "    <tr>\n",
       "      <th>18</th>\n",
       "      <td>Export</td>\n",
       "      <td>636184</td>\n",
       "      <td>2004-12-31</td>\n",
       "    </tr>\n",
       "  </tbody>\n",
       "</table>\n",
       "</div>"
      ],
      "text/plain": [
       "      flow  trade_usd      years\n",
       "0   Export       6088 2000-12-31\n",
       "1   Export       3958 2001-12-31\n",
       "6   Export      87581 2002-12-31\n",
       "10  Export     584025 2003-12-31\n",
       "18  Export     636184 2004-12-31"
      ]
     },
     "execution_count": 49,
     "metadata": {},
     "output_type": "execute_result"
    }
   ],
   "source": [
    "exports.head()"
   ]
  },
  {
   "cell_type": "code",
   "execution_count": 58,
   "id": "e201351d-f574-4fa2-8e7d-e60abc4a1198",
   "metadata": {},
   "outputs": [
    {
     "data": {
      "text/plain": [
       "<Axes: title={'center': 'Row Counts for Exports'}>"
      ]
     },
     "execution_count": 58,
     "metadata": {},
     "output_type": "execute_result"
    },
    {
     "data": {
      "image/png": "[encoded data removed]",
      "text/plain": [
       "<Figure size 640x480 with 1 Axes>"
      ]
     },
     "metadata": {},
     "output_type": "display_data"
    }
   ],
   "source": [
    "# Print the updated DataFrame\n",
    "exports['years'].value_counts().plot(kind ='line', title=\"Row Counts for Exports\")"
   ]
  },
  {
   "cell_type": "code",
   "execution_count": 51,
   "id": "7f52111a-86d3-410c-9749-029d366f3bc0",
   "metadata": {},
   "outputs": [
    {
     "data": {
      "text/plain": [
       "flow                 object\n",
       "trade_usd             int64\n",
       "years        datetime64[ns]\n",
       "dtype: object"
      ]
     },
     "execution_count": 51,
     "metadata": {},
     "output_type": "execute_result"
    }
   ],
   "source": [
    "exports.dtypes"
   ]
  },
  {
   "cell_type": "markdown",
   "id": "4c948405-9543-4d65-b104-9560b13919f0",
   "metadata": {},
   "source": [
    "#### Auto ARIMA Forecast for 5 Years"
   ]
  },
  {
   "cell_type": "code",
   "execution_count": 59,
   "id": "7db26be2-038e-4903-9886-39f9ac75a26d",
   "metadata": {},
   "outputs": [
    {
     "ename": "ValueError",
     "evalue": "could not convert string to float: 'Export'",
     "output_type": "error",
     "traceback": [
      "\u001b[0;31m---------------------------------------------------------------------------\u001b[0m",
      "\u001b[0;31mValueError\u001b[0m                                Traceback (most recent call last)",
      "Cell \u001b[0;32mIn[59], line 8\u001b[0m\n\u001b[1;32m      5\u001b[0m forecast_period \u001b[38;5;241m=\u001b[39m \u001b[38;5;241m5\u001b[39m\n\u001b[1;32m      7\u001b[0m \u001b[38;5;66;03m# Define the model and fit it to the data\u001b[39;00m\n\u001b[0;32m----> 8\u001b[0m model \u001b[38;5;241m=\u001b[39m auto_arima(exports, seasonal\u001b[38;5;241m=\u001b[39m\u001b[38;5;28;01mFalse\u001b[39;00m, suppress_warnings\u001b[38;5;241m=\u001b[39m\u001b[38;5;28;01mTrue\u001b[39;00m)\n\u001b[1;32m      9\u001b[0m model\u001b[38;5;241m.\u001b[39mfit(exports)\n\u001b[1;32m     11\u001b[0m \u001b[38;5;66;03m# Generate the forecasts\u001b[39;00m\n",
      "File \u001b[0;32m~/anaconda3/envs/RIMB/lib/python3.11/site-packages/pmdarima/arima/auto.py:422\u001b[0m, in \u001b[0;36mauto_arima\u001b[0;34m(y, X, start_p, d, start_q, max_p, max_d, max_q, start_P, D, start_Q, max_P, max_D, max_Q, max_order, m, seasonal, stationary, information_criterion, alpha, test, seasonal_test, stepwise, n_jobs, start_params, trend, method, maxiter, offset_test_args, seasonal_test_args, suppress_warnings, error_action, trace, random, random_state, n_fits, return_valid_fits, out_of_sample_size, scoring, scoring_args, with_intercept, sarimax_kwargs, **fit_args)\u001b[0m\n\u001b[1;32m    419\u001b[0m start \u001b[38;5;241m=\u001b[39m time\u001b[38;5;241m.\u001b[39mtime()\n\u001b[1;32m    421\u001b[0m \u001b[38;5;66;03m# copy array\u001b[39;00m\n\u001b[0;32m--> 422\u001b[0m y \u001b[38;5;241m=\u001b[39m check_endog(y, dtype\u001b[38;5;241m=\u001b[39mDTYPE, preserve_series\u001b[38;5;241m=\u001b[39m\u001b[38;5;28;01mTrue\u001b[39;00m)\n\u001b[1;32m    423\u001b[0m n_samples \u001b[38;5;241m=\u001b[39m y\u001b[38;5;241m.\u001b[39mshape[\u001b[38;5;241m0\u001b[39m]\n\u001b[1;32m    425\u001b[0m \u001b[38;5;66;03m# the workhorse of the model fits\u001b[39;00m\n",
      "File \u001b[0;32m~/anaconda3/envs/RIMB/lib/python3.11/site-packages/pmdarima/utils/array.py:179\u001b[0m, in \u001b[0;36mcheck_endog\u001b[0;34m(y, dtype, copy, force_all_finite, preserve_series)\u001b[0m\n\u001b[1;32m    141\u001b[0m \u001b[38;5;28;01mdef\u001b[39;00m \u001b[38;5;21mcheck_endog\u001b[39m(\n\u001b[1;32m    142\u001b[0m     y,\n\u001b[1;32m    143\u001b[0m     dtype\u001b[38;5;241m=\u001b[39mDTYPE,\n\u001b[0;32m   (...)\u001b[0m\n\u001b[1;32m    146\u001b[0m     preserve_series\u001b[38;5;241m=\u001b[39m\u001b[38;5;28;01mTrue\u001b[39;00m,\n\u001b[1;32m    147\u001b[0m ):\n\u001b[1;32m    148\u001b[0m     \u001b[38;5;124;03m\"\"\"Wrapper for ``check_array`` and ``column_or_1d`` from sklearn\u001b[39;00m\n\u001b[1;32m    149\u001b[0m \n\u001b[1;32m    150\u001b[0m \u001b[38;5;124;03m    Parameters\u001b[39;00m\n\u001b[0;32m   (...)\u001b[0m\n\u001b[1;32m    177\u001b[0m \u001b[38;5;124;03m        A 1d numpy ndarray\u001b[39;00m\n\u001b[1;32m    178\u001b[0m \u001b[38;5;124;03m    \"\"\"\u001b[39;00m\n\u001b[0;32m--> 179\u001b[0m     endog \u001b[38;5;241m=\u001b[39m skval\u001b[38;5;241m.\u001b[39mcheck_array(\n\u001b[1;32m    180\u001b[0m         y,\n\u001b[1;32m    181\u001b[0m         ensure_2d\u001b[38;5;241m=\u001b[39m\u001b[38;5;28;01mFalse\u001b[39;00m,\n\u001b[1;32m    182\u001b[0m         force_all_finite\u001b[38;5;241m=\u001b[39mforce_all_finite,\n\u001b[1;32m    183\u001b[0m         copy\u001b[38;5;241m=\u001b[39mcopy,\n\u001b[1;32m    184\u001b[0m         dtype\u001b[38;5;241m=\u001b[39mdtype,\n\u001b[1;32m    185\u001b[0m     )\n\u001b[1;32m    187\u001b[0m     endog \u001b[38;5;241m=\u001b[39m skval\u001b[38;5;241m.\u001b[39mcolumn_or_1d(endog)\n\u001b[1;32m    188\u001b[0m     \u001b[38;5;28;01mif\u001b[39;00m \u001b[38;5;129;01mnot\u001b[39;00m preserve_series:\n",
      "File \u001b[0;32m~/anaconda3/envs/RIMB/lib/python3.11/site-packages/sklearn/utils/validation.py:879\u001b[0m, in \u001b[0;36mcheck_array\u001b[0;34m(array, accept_sparse, accept_large_sparse, dtype, order, copy, force_all_finite, ensure_2d, allow_nd, ensure_min_samples, ensure_min_features, estimator, input_name)\u001b[0m\n\u001b[1;32m    877\u001b[0m         array \u001b[38;5;241m=\u001b[39m xp\u001b[38;5;241m.\u001b[39mastype(array, dtype, copy\u001b[38;5;241m=\u001b[39m\u001b[38;5;28;01mFalse\u001b[39;00m)\n\u001b[1;32m    878\u001b[0m     \u001b[38;5;28;01melse\u001b[39;00m:\n\u001b[0;32m--> 879\u001b[0m         array \u001b[38;5;241m=\u001b[39m _asarray_with_order(array, order\u001b[38;5;241m=\u001b[39morder, dtype\u001b[38;5;241m=\u001b[39mdtype, xp\u001b[38;5;241m=\u001b[39mxp)\n\u001b[1;32m    880\u001b[0m \u001b[38;5;28;01mexcept\u001b[39;00m ComplexWarning \u001b[38;5;28;01mas\u001b[39;00m complex_warning:\n\u001b[1;32m    881\u001b[0m     \u001b[38;5;28;01mraise\u001b[39;00m \u001b[38;5;167;01mValueError\u001b[39;00m(\n\u001b[1;32m    882\u001b[0m         \u001b[38;5;124m\"\u001b[39m\u001b[38;5;124mComplex data not supported\u001b[39m\u001b[38;5;130;01m\\n\u001b[39;00m\u001b[38;5;132;01m{}\u001b[39;00m\u001b[38;5;130;01m\\n\u001b[39;00m\u001b[38;5;124m\"\u001b[39m\u001b[38;5;241m.\u001b[39mformat(array)\n\u001b[1;32m    883\u001b[0m     ) \u001b[38;5;28;01mfrom\u001b[39;00m \u001b[38;5;21;01mcomplex_warning\u001b[39;00m\n",
      "File \u001b[0;32m~/anaconda3/envs/RIMB/lib/python3.11/site-packages/sklearn/utils/_array_api.py:185\u001b[0m, in \u001b[0;36m_asarray_with_order\u001b[0;34m(array, dtype, order, copy, xp)\u001b[0m\n\u001b[1;32m    182\u001b[0m     xp, _ \u001b[38;5;241m=\u001b[39m get_namespace(array)\n\u001b[1;32m    183\u001b[0m \u001b[38;5;28;01mif\u001b[39;00m xp\u001b[38;5;241m.\u001b[39m\u001b[38;5;18m__name__\u001b[39m \u001b[38;5;129;01min\u001b[39;00m {\u001b[38;5;124m\"\u001b[39m\u001b[38;5;124mnumpy\u001b[39m\u001b[38;5;124m\"\u001b[39m, \u001b[38;5;124m\"\u001b[39m\u001b[38;5;124mnumpy.array_api\u001b[39m\u001b[38;5;124m\"\u001b[39m}:\n\u001b[1;32m    184\u001b[0m     \u001b[38;5;66;03m# Use NumPy API to support order\u001b[39;00m\n\u001b[0;32m--> 185\u001b[0m     array \u001b[38;5;241m=\u001b[39m numpy\u001b[38;5;241m.\u001b[39masarray(array, order\u001b[38;5;241m=\u001b[39morder, dtype\u001b[38;5;241m=\u001b[39mdtype)\n\u001b[1;32m    186\u001b[0m     \u001b[38;5;28;01mreturn\u001b[39;00m xp\u001b[38;5;241m.\u001b[39masarray(array, copy\u001b[38;5;241m=\u001b[39mcopy)\n\u001b[1;32m    187\u001b[0m \u001b[38;5;28;01melse\u001b[39;00m:\n",
      "File \u001b[0;32m~/anaconda3/envs/RIMB/lib/python3.11/site-packages/pandas/core/generic.py:2070\u001b[0m, in \u001b[0;36mNDFrame.__array__\u001b[0;34m(self, dtype)\u001b[0m\n\u001b[1;32m   2069\u001b[0m \u001b[38;5;28;01mdef\u001b[39;00m \u001b[38;5;21m__array__\u001b[39m(\u001b[38;5;28mself\u001b[39m, dtype: npt\u001b[38;5;241m.\u001b[39mDTypeLike \u001b[38;5;241m|\u001b[39m \u001b[38;5;28;01mNone\u001b[39;00m \u001b[38;5;241m=\u001b[39m \u001b[38;5;28;01mNone\u001b[39;00m) \u001b[38;5;241m-\u001b[39m\u001b[38;5;241m>\u001b[39m np\u001b[38;5;241m.\u001b[39mndarray:\n\u001b[0;32m-> 2070\u001b[0m     \u001b[38;5;28;01mreturn\u001b[39;00m np\u001b[38;5;241m.\u001b[39masarray(\u001b[38;5;28mself\u001b[39m\u001b[38;5;241m.\u001b[39m_values, dtype\u001b[38;5;241m=\u001b[39mdtype)\n",
      "\u001b[0;31mValueError\u001b[0m: could not convert string to float: 'Export'"
     ]
    }
   ],
   "source": [
    "# Set \"years\" column as the index\n",
    "exports.set_index(\"years\", inplace=True)\n",
    "\n",
    "# Define the number of years to forecast\n",
    "forecast_period = 5\n",
    "\n",
    "# Define the model and fit it to the data\n",
    "model = auto_arima(exports, seasonal=False, suppress_warnings=True)\n",
    "model.fit(exports)\n",
    "\n",
    "# Generate the forecasts\n",
    "forecast = model.predict(n_periods=forecast_period)\n",
    "\n",
    "# Convert the forecasts to a DataFrame and add a date index\n",
    "forecast_dates = pd.date_range(start=exports.index[-1], periods=forecast_period+1, freq=\"Y\")[1:]\n",
    "forecast_df = pd.DataFrame(forecast, index=forecast_dates, columns=[\"forecast\"])\n",
    "\n",
    "# Concatenate the original data with the forecasts\n",
    "result = pd.concat([exports, forecast_df], axis=0)\n",
    "\n"
   ]
  },
  {
   "cell_type": "code",
   "execution_count": null,
   "id": "49350d9a-63b4-49e2-acdf-2f50781e69c8",
   "metadata": {},
   "outputs": [],
   "source": [
    "# Plot the results\n",
    "result.plot(figsize=(12,6), title=\"Imports Forecast for Next 5 Years\")"
   ]
  },
  {
   "cell_type": "markdown",
   "id": "92f5a0bd-8cdb-4a10-b156-782ff5b52eef",
   "metadata": {},
   "source": [
    "### Begin Analysis and Forecast for Imports"
   ]
  },
  {
   "cell_type": "code",
   "execution_count": 52,
   "id": "4e98e826-42bc-441f-b28e-950eb0659ce8",
   "metadata": {},
   "outputs": [
    {
     "data": {
      "text/html": [
       "<div>\n",
       "<style scoped>\n",
       "    .dataframe tbody tr th:only-of-type {\n",
       "        vertical-align: middle;\n",
       "    }\n",
       "\n",
       "    .dataframe tbody tr th {\n",
       "        vertical-align: top;\n",
       "    }\n",
       "\n",
       "    .dataframe thead th {\n",
       "        text-align: right;\n",
       "    }\n",
       "</style>\n",
       "<table border=\"1\" class=\"dataframe\">\n",
       "  <thead>\n",
       "    <tr style=\"text-align: right;\">\n",
       "      <th></th>\n",
       "      <th>flow</th>\n",
       "      <th>trade_usd</th>\n",
       "    </tr>\n",
       "  </thead>\n",
       "  <tbody>\n",
       "    <tr>\n",
       "      <th>2</th>\n",
       "      <td>Import</td>\n",
       "      <td>1026804</td>\n",
       "    </tr>\n",
       "    <tr>\n",
       "      <th>3</th>\n",
       "      <td>Import</td>\n",
       "      <td>2414533</td>\n",
       "    </tr>\n",
       "    <tr>\n",
       "      <th>4</th>\n",
       "      <td>Import</td>\n",
       "      <td>14265937</td>\n",
       "    </tr>\n",
       "    <tr>\n",
       "      <th>5</th>\n",
       "      <td>Import</td>\n",
       "      <td>2671732</td>\n",
       "    </tr>\n",
       "    <tr>\n",
       "      <th>7</th>\n",
       "      <td>Import</td>\n",
       "      <td>26485</td>\n",
       "    </tr>\n",
       "  </tbody>\n",
       "</table>\n",
       "</div>"
      ],
      "text/plain": [
       "     flow  trade_usd\n",
       "2  Import    1026804\n",
       "3  Import    2414533\n",
       "4  Import   14265937\n",
       "5  Import    2671732\n",
       "7  Import      26485"
      ]
     },
     "execution_count": 52,
     "metadata": {},
     "output_type": "execute_result"
    }
   ],
   "source": [
    "imports = trade.query('flow ==\"Import\"')\n",
    "# Extract the columns of interest\n",
    "imports = imports[[\"flow\", \"trade_usd\"]]\n",
    "imports.head()"
   ]
  },
  {
   "cell_type": "code",
   "execution_count": 53,
   "id": "a0d1c1e5-a4ed-4cb4-8d5f-262526a025b9",
   "metadata": {},
   "outputs": [],
   "source": [
    "# Create a range of dates with yearly frequency from 2000 to 2020\n",
    "dates = pd.date_range(start=\"2000-01-01\", end=\"2020-12-31\", freq=\"Y\")\n",
    "\n",
    "# Repeat the dates to match the length of the DataFrame\n",
    "dates = dates.tolist() * ((len(imports) // len(dates)) + 1)\n",
    "dates = dates[:len(imports)]\n",
    "\n",
    "# Format the dates as strings with the format \"%Y-%m-%d\"\n",
    "formatted_dates = [date.strftime(\"%Y-%m-%d\") for date in dates]\n",
    "\n",
    "# Add the years column to the DataFrame\n",
    "imports[\"years\"] = formatted_dates\n",
    "\n",
    "# Convert the years column to datetime\n",
    "imports[\"years\"] = pd.to_datetime(imports[\"years\"])"
   ]
  },
  {
   "cell_type": "code",
   "execution_count": 54,
   "id": "a9b39f6e-b204-4261-bb6b-e55fbe8adec1",
   "metadata": {},
   "outputs": [
    {
     "data": {
      "text/html": [
       "<div>\n",
       "<style scoped>\n",
       "    .dataframe tbody tr th:only-of-type {\n",
       "        vertical-align: middle;\n",
       "    }\n",
       "\n",
       "    .dataframe tbody tr th {\n",
       "        vertical-align: top;\n",
       "    }\n",
       "\n",
       "    .dataframe thead th {\n",
       "        text-align: right;\n",
       "    }\n",
       "</style>\n",
       "<table border=\"1\" class=\"dataframe\">\n",
       "  <thead>\n",
       "    <tr style=\"text-align: right;\">\n",
       "      <th></th>\n",
       "      <th>flow</th>\n",
       "      <th>trade_usd</th>\n",
       "      <th>years</th>\n",
       "    </tr>\n",
       "  </thead>\n",
       "  <tbody>\n",
       "    <tr>\n",
       "      <th>2</th>\n",
       "      <td>Import</td>\n",
       "      <td>1026804</td>\n",
       "      <td>2000-12-31</td>\n",
       "    </tr>\n",
       "    <tr>\n",
       "      <th>3</th>\n",
       "      <td>Import</td>\n",
       "      <td>2414533</td>\n",
       "      <td>2001-12-31</td>\n",
       "    </tr>\n",
       "    <tr>\n",
       "      <th>4</th>\n",
       "      <td>Import</td>\n",
       "      <td>14265937</td>\n",
       "      <td>2002-12-31</td>\n",
       "    </tr>\n",
       "    <tr>\n",
       "      <th>5</th>\n",
       "      <td>Import</td>\n",
       "      <td>2671732</td>\n",
       "      <td>2003-12-31</td>\n",
       "    </tr>\n",
       "    <tr>\n",
       "      <th>7</th>\n",
       "      <td>Import</td>\n",
       "      <td>26485</td>\n",
       "      <td>2004-12-31</td>\n",
       "    </tr>\n",
       "  </tbody>\n",
       "</table>\n",
       "</div>"
      ],
      "text/plain": [
       "     flow  trade_usd      years\n",
       "2  Import    1026804 2000-12-31\n",
       "3  Import    2414533 2001-12-31\n",
       "4  Import   14265937 2002-12-31\n",
       "5  Import    2671732 2003-12-31\n",
       "7  Import      26485 2004-12-31"
      ]
     },
     "execution_count": 54,
     "metadata": {},
     "output_type": "execute_result"
    }
   ],
   "source": [
    "imports.head()"
   ]
  },
  {
   "cell_type": "code",
   "execution_count": 55,
   "id": "0813bc29-482b-456d-bb45-28b403abce57",
   "metadata": {},
   "outputs": [
    {
     "data": {
      "text/plain": [
       "flow                 object\n",
       "trade_usd             int64\n",
       "years        datetime64[ns]\n",
       "dtype: object"
      ]
     },
     "execution_count": 55,
     "metadata": {},
     "output_type": "execute_result"
    }
   ],
   "source": [
    "imports.dtypes"
   ]
  },
  {
   "cell_type": "code",
   "execution_count": 56,
   "id": "4fe15848-f115-4581-9535-e618c20a5350",
   "metadata": {},
   "outputs": [
    {
     "data": {
      "text/plain": [
       "<Axes: title={'center': 'Row Counts for Imports'}>"
      ]
     },
     "execution_count": 56,
     "metadata": {},
     "output_type": "execute_result"
    },
    {
     "data": {
      "image/png": "[encoded data removed]",
      "text/plain": [
       "<Figure size 640x480 with 1 Axes>"
      ]
     },
     "metadata": {},
     "output_type": "display_data"
    }
   ],
   "source": [
    "imports['years'].value_counts().plot(kind ='line', title=\"Row Counts for Imports\")"
   ]
  },
  {
   "cell_type": "code",
   "execution_count": null,
   "id": "3cddb07c-0ae2-4e9c-955e-fe66b6841573",
   "metadata": {},
   "outputs": [],
   "source": []
  }
 ],
 "metadata": {
  "kernelspec": {
   "display_name": "Python 3 (ipykernel)",
   "language": "python",
   "name": "python3"
  },
  "language_info": {
   "codemirror_mode": {
    "name": "ipython",
    "version": 3
   },
   "file_extension": ".py",
   "mimetype": "text/x-python",
   "name": "python",
   "nbconvert_exporter": "python",
   "pygments_lexer": "ipython3",
   "version": "3.11.3"
  }
 },
 "nbformat": 4,
 "nbformat_minor": 5
}
